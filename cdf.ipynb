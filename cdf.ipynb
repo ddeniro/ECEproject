{
 "cells": [
  {
   "cell_type": "markdown",
   "metadata": {},
   "source": [
    "### Inverse Cumuklative Distribution Functions (CDFs) of:\n",
    "* Exponential\n",
    "* Weibull\n",
    "* Uniform (or other distribution of your choise)\n",
    "* \"Inverse Pyramid\""
   ]
  },
  {
   "cell_type": "code",
   "execution_count": 13,
   "metadata": {},
   "outputs": [],
   "source": [
    "import matplotlib.pyplot as plt\n",
    "import scipy\n",
    "import scipy.stats as sp\n",
    "import numpy as np\n",
    "import seaborn as sns\n",
    "# Exponential\n",
    "# I believe it is expon.ppf()\n",
    "#Weibull is weibull_min.ppf()\n",
    "#Uniform is ppf()\n",
    "\n",
    "\n",
    "\n"
   ]
  },
  {
   "cell_type": "markdown",
   "metadata": {},
   "source": [
    "### Random Numbers\n",
    "* Generate random uniform (0,1) numbers and use the inverse CDF functions to create random numbers for each of the distributions. Repeat this at least 50,000 times for each distribution."
   ]
  },
  {
   "cell_type": "code",
   "execution_count": 14,
   "metadata": {},
   "outputs": [],
   "source": [
    "# This outputs n amount of numbers between 0 and 1.\n",
    "def genNums(n):\n",
    "    return np.random.uniform(0,1,n)"
   ]
  },
  {
   "cell_type": "markdown",
   "metadata": {},
   "source": [
    "## Using random numbers to generate numbers in a distribution\n",
    " This example here uses the normal distribution. We first generate random numbers above, and then use in the ppf function to create a dataset of random numbers in a normal distribution. We graph them on a histogram to show it fits the distribution."
   ]
  },
  {
   "cell_type": "code",
   "execution_count": 15,
   "metadata": {},
   "outputs": [
    {
     "ename": "NameError",
     "evalue": "name 'rannums' is not defined",
     "output_type": "error",
     "traceback": [
      "\u001b[0;31m---------------------------------------------------------------------------\u001b[0m",
      "\u001b[0;31mNameError\u001b[0m                                 Traceback (most recent call last)",
      "\u001b[0;32m<ipython-input-15-b673cf25ecea>\u001b[0m in \u001b[0;36m<module>\u001b[0;34m()\u001b[0m\n\u001b[1;32m      3\u001b[0m \u001b[0mmean\u001b[0m\u001b[0;34m,\u001b[0m \u001b[0mvar\u001b[0m\u001b[0;34m,\u001b[0m \u001b[0mskew\u001b[0m\u001b[0;34m,\u001b[0m \u001b[0mkurt\u001b[0m \u001b[0;34m=\u001b[0m \u001b[0msp\u001b[0m\u001b[0;34m.\u001b[0m\u001b[0mnorm\u001b[0m\u001b[0;34m.\u001b[0m\u001b[0mstats\u001b[0m\u001b[0;34m(\u001b[0m\u001b[0mmoments\u001b[0m\u001b[0;34m=\u001b[0m\u001b[0;34m'mvsk'\u001b[0m\u001b[0;34m)\u001b[0m\u001b[0;34m\u001b[0m\u001b[0m\n\u001b[1;32m      4\u001b[0m \u001b[0mnormNums\u001b[0m \u001b[0;34m=\u001b[0m \u001b[0;34m[\u001b[0m\u001b[0;34m]\u001b[0m\u001b[0;34m\u001b[0m\u001b[0m\n\u001b[0;32m----> 5\u001b[0;31m \u001b[0;32mfor\u001b[0m \u001b[0mnum\u001b[0m \u001b[0;32min\u001b[0m \u001b[0mrannums\u001b[0m\u001b[0;34m:\u001b[0m\u001b[0;34m\u001b[0m\u001b[0m\n\u001b[0m\u001b[1;32m      6\u001b[0m     \u001b[0mnormNums\u001b[0m\u001b[0;34m.\u001b[0m\u001b[0mappend\u001b[0m\u001b[0;34m(\u001b[0m\u001b[0msp\u001b[0m\u001b[0;34m.\u001b[0m\u001b[0mnorm\u001b[0m\u001b[0;34m.\u001b[0m\u001b[0mppf\u001b[0m\u001b[0;34m(\u001b[0m\u001b[0mnum\u001b[0m\u001b[0;34m)\u001b[0m\u001b[0;34m)\u001b[0m\u001b[0;34m\u001b[0m\u001b[0m\n\u001b[1;32m      7\u001b[0m \u001b[0mrv\u001b[0m \u001b[0;34m=\u001b[0m \u001b[0msp\u001b[0m\u001b[0;34m.\u001b[0m\u001b[0mnorm\u001b[0m\u001b[0;34m(\u001b[0m\u001b[0;34m)\u001b[0m\u001b[0;34m\u001b[0m\u001b[0m\n",
      "\u001b[0;31mNameError\u001b[0m: name 'rannums' is not defined"
     ]
    },
    {
     "data": {
      "image/png": "[encoded data removed]",
      "text/plain": "<Figure size 432x288 with 2 Axes>"
     },
     "metadata": {
      "needs_background": "light"
     },
     "output_type": "display_data"
    }
   ],
   "source": [
    "# Working on Normal Distribution\n",
    "fix, axs = plt.subplots(2, 1)\n",
    "mean, var, skew, kurt = sp.norm.stats(moments='mvsk')\n",
    "normNums = []\n",
    "for num in rannums:\n",
    "    normNums.append(sp.norm.ppf(num))\n",
    "rv = sp.norm()\n",
    "axs[0].hist(rannums, density=True, histtype='stepfilled', alpha=0.2)\n",
    "axs[1].hist(normNums, density=True, histtype='stepfilled', alpha=0.2)\n",
    "axs[1].plot(normNums, rv.pdf(normNums), alpha=0.6)\n",
    "plt.show()"
   ]
  },
  {
   "cell_type": "code",
   "execution_count": 305,
   "metadata": {},
   "outputs": [
    {
     "data": {
      "text/plain": "[<matplotlib.lines.Line2D at 0x7f1498145cf8>]"
     },
     "execution_count": 305,
     "metadata": {},
     "output_type": "execute_result"
    },
    {
     "data": {
      "image/png": "[encoded data removed]",
      "text/plain": "<Figure size 432x288 with 2 Axes>"
     },
     "metadata": {
      "needs_background": "light"
     },
     "output_type": "display_data"
    }
   ],
   "source": [
    "# Exponential\n",
    "fix, axs = plt.subplots(2,1)\n",
    "exponNums = []\n",
    "for num in rannums:\n",
    "    exponNums.append(sp.expon.ppf(num))\n",
    "\n",
    "rv = sp.expon()\n",
    "\n",
    "axs[0].hist(rannums, density=True, histtype='stepfilled', alpha=0.2)\n",
    "axs[1].hist(exponNums, density=True, histtype='stepfilled', alpha=0.2)\n",
    "axs[1].plot(exponNums, sp.expon.pdf(exponNums), 'r-', lw=5, label='frozen pdf')\n",
    "axs[1].plot(exponNums, rv.pdf(exponNums), 'r-', lw=2, label='frozen pdf')"
   ]
  },
  {
   "cell_type": "code",
   "execution_count": 306,
   "metadata": {},
   "outputs": [
    {
     "ename": "NameError",
     "evalue": "name 'set_fillstyle' is not defined",
     "output_type": "error",
     "traceback": [
      "\u001b[0;31m---------------------------------------------------------------------------\u001b[0m",
      "\u001b[0;31mNameError\u001b[0m                                 Traceback (most recent call last)",
      "\u001b[0;32m<ipython-input-306-54a9ea370ad2>\u001b[0m in \u001b[0;36m<module>\u001b[0;34m()\u001b[0m\n\u001b[1;32m      7\u001b[0m \u001b[0maxs\u001b[0m\u001b[0;34m[\u001b[0m\u001b[0;36m0\u001b[0m\u001b[0;34m]\u001b[0m\u001b[0;34m.\u001b[0m\u001b[0mhist\u001b[0m\u001b[0;34m(\u001b[0m\u001b[0mrannums\u001b[0m\u001b[0;34m,\u001b[0m \u001b[0mdensity\u001b[0m\u001b[0;34m=\u001b[0m\u001b[0;32mTrue\u001b[0m\u001b[0;34m,\u001b[0m \u001b[0mhisttype\u001b[0m\u001b[0;34m=\u001b[0m\u001b[0;34m'stepfilled'\u001b[0m\u001b[0;34m,\u001b[0m \u001b[0malpha\u001b[0m\u001b[0;34m=\u001b[0m\u001b[0;36m0.2\u001b[0m\u001b[0;34m)\u001b[0m\u001b[0;34m\u001b[0m\u001b[0m\n\u001b[1;32m      8\u001b[0m \u001b[0maxs\u001b[0m\u001b[0;34m[\u001b[0m\u001b[0;36m1\u001b[0m\u001b[0;34m]\u001b[0m\u001b[0;34m.\u001b[0m\u001b[0mhist\u001b[0m\u001b[0;34m(\u001b[0m\u001b[0mweibulls\u001b[0m\u001b[0;34m,\u001b[0m \u001b[0mdensity\u001b[0m\u001b[0;34m=\u001b[0m\u001b[0;32mTrue\u001b[0m\u001b[0;34m,\u001b[0m \u001b[0mhisttype\u001b[0m\u001b[0;34m=\u001b[0m\u001b[0;34m'stepfilled'\u001b[0m\u001b[0;34m,\u001b[0m \u001b[0malpha\u001b[0m\u001b[0;34m=\u001b[0m\u001b[0;36m0.2\u001b[0m\u001b[0;34m)\u001b[0m\u001b[0;34m\u001b[0m\u001b[0m\n\u001b[0;32m----> 9\u001b[0;31m \u001b[0maxs\u001b[0m\u001b[0;34m[\u001b[0m\u001b[0;36m1\u001b[0m\u001b[0;34m]\u001b[0m\u001b[0;34m.\u001b[0m\u001b[0mplot\u001b[0m\u001b[0;34m(\u001b[0m\u001b[0mweibulls\u001b[0m\u001b[0;34m,\u001b[0m \u001b[0msp\u001b[0m\u001b[0;34m.\u001b[0m\u001b[0mweibull_min\u001b[0m\u001b[0;34m.\u001b[0m\u001b[0mpdf\u001b[0m\u001b[0;34m(\u001b[0m\u001b[0mweibulls\u001b[0m\u001b[0;34m,\u001b[0m \u001b[0mc\u001b[0m\u001b[0;34m)\u001b[0m\u001b[0;34m,\u001b[0m \u001b[0mset_fillstyle\u001b[0m\u001b[0;34m)\u001b[0m\u001b[0;34m\u001b[0m\u001b[0m\n\u001b[0m",
      "\u001b[0;31mNameError\u001b[0m: name 'set_fillstyle' is not defined"
     ]
    },
    {
     "data": {
      "image/png": "[encoded data removed]",
      "text/plain": "<Figure size 432x288 with 2 Axes>"
     },
     "metadata": {
      "needs_background": "light"
     },
     "output_type": "display_data"
    }
   ],
   "source": [
    "#Weibull\n",
    "fix, axs = plt.subplots(2,1)\n",
    "c = 1.60\n",
    "weibulls = []\n",
    "for num in rannums:\n",
    "    weibulls.append(sp.weibull_min.ppf(num, c))\n",
    "axs[0].hist(rannums, density=True, histtype='stepfilled', alpha=0.2)\n",
    "axs[1].hist(weibulls, density=True, histtype='stepfilled', alpha=0.2)\n",
    "axs[1].plot(weibulls, sp.weibull_min.pdf(weibulls, c), set_fillstyle)\n",
    "\n"
   ]
  },
  {
   "cell_type": "code",
   "execution_count": 224,
   "metadata": {},
   "outputs": [],
   "source": [
    "# Uniform\n",
    "# fix, axs = plt.subplots(2,1)\n",
    "uniforms = []\n",
    "for num in rannums:\n",
    "    uniforms.append(sp.uniform.ppf(num))\n",
    "\n",
    "# axs[0].hist(rannums, density=True, histtype='stepfilled', alpha=0.2)\n",
    "# axs[1].hist(uniforms, density=True, histtype='stepfilled', alpha=0.2)a\n",
    "# axs[1].plot(uniforms, sp.uniform.pdf(uniforms))"
   ]
  },
  {
   "cell_type": "code",
   "execution_count": null,
   "metadata": {},
   "outputs": [],
   "source": []
  },
  {
   "cell_type": "markdown",
   "metadata": {},
   "source": [
    "## Generate all data sets from random variables\n",
    "Here we simply just create the arrays from the random numbers. The code blocks above are the individual versions, along with a way to print out the histogram after its changed to confirm its working."
   ]
  },
  {
   "cell_type": "code",
   "execution_count": 8,
   "metadata": {},
   "outputs": [],
   "source": [
    "# Generate all data sets TRIANGLE currently unused/unimplemented\n",
    "# Where n is the amount of numbers between 0 and 1 generated.\n",
    "uniforms = []\n",
    "weibulls = [] #!! In order to keep information flowing\n",
    "exponNums = []\n",
    "c = 1.69 # Shape factor for the weibull\n",
    "def genDataSet(uniformNums, weibullNums, exponNums,n):\n",
    "    rannums = genNums(n)\n",
    "    for num in rannums:\n",
    "        uniformNums.append(sp.uniform.ppf(num))\n",
    "        weibullNums.append(sp.weibull_min.ppf(num, c))\n",
    "        exponNums.append(sp.expon.ppf(num))"
   ]
  },
  {
   "cell_type": "markdown",
   "metadata": {},
   "source": [
    "## Modify/Process the Data\n",
    "In this section we generate sample averages of size n = 5, 30 and 100"
   ]
  },
  {
   "cell_type": "markdown",
   "metadata": {},
   "source": [
    "### n = 100"
   ]
  },
  {
   "cell_type": "code",
   "execution_count": 27,
   "metadata": {},
   "outputs": [
    {
     "name": "stdout",
     "output_type": "stream",
     "text": [
      "0.9755062096427064\n"
     ]
    }
   ],
   "source": [
    "# Distro Class is a way that we can store the entire datasets of our distributions while \n",
    "class Distro:\n",
    "    def __init__(self):\n",
    "        self.exMeans = []\n",
    "        self.uniMeans = []\n",
    "        self.weiMeans = []\n",
    "# takeStats will create a dataset of n numbers in each distribution, and will find the mean and add it to the array in Distro. \n",
    "# It willd do this p times for p Means in each array.\n",
    "def takeStats(n, p):\n",
    "    distroSet = Distro()\n",
    "    for i in range(p):\n",
    "        uniforms = []\n",
    "        weibulls = []\n",
    "        exponNums = []\n",
    "        genDataSet(uniforms, weibulls, exponNums, n)\n",
    "        distroSet.exMeans.append(scipy.mean(exponNums))\n",
    "        distroSet.uniMeans.append(scipy.mean(uniforms))\n",
    "        distroSet.weiMeans.append(scipy.mean(weibulls))\n",
    "    return distroSet\n",
    "\n",
    "# Create the \"parent\" distro graphs for the first row.\n",
    "uniforms = []\n",
    "weibulls = []\n",
    "exponNums = []\n",
    "genDataSet(uniforms, weibulls, exponNums, 50000)\n",
    "## ## asdasdasdasdasdasdaasdfasdfasadasdaasdasdasdasdasdasdasdasdasdasdasdasdasdasdasdasdasd\n",
    "\n",
    "distro1 = takeStats(100, 5000)\n",
    "distro2 = takeStats(30, 5000)\n",
    "distro3 = takeStats(5, 5000)\n",
    "print(distro1.exMeans[0])\n",
    "\n",
    "\n",
    "\n"
   ]
  },
  {
   "cell_type": "code",
   "execution_count": 309,
   "metadata": {},
   "outputs": [
    {
     "name": "stderr",
     "output_type": "stream",
     "text": [
      "/home/ddeniro/anaconda3/lib/python3.7/site-packages/scipy/stats/stats.py:1713: FutureWarning: Using a non-tuple sequence for multidimensional indexing is deprecated; use `arr[tuple(seq)]` instead of `arr[seq]`. In the future this will be interpreted as an array index, `arr[np.array(seq)]`, which will result either in an error or a different result.\n",
      "  return np.add.reduce(sorted[indexer] * weights, axis=axis) / sumval\n"
     ]
    },
    {
     "data": {
      "text/plain": "<matplotlib.axes._subplots.AxesSubplot at 0x7f149801c908>"
     },
     "execution_count": 309,
     "metadata": {},
     "output_type": "execute_result"
    },
    {
     "data": {
      "image/png": "[encoded data removed]",
      "text/plain": "<Figure size 432x288 with 1 Axes>"
     },
     "metadata": {
      "needs_background": "light"
     },
     "output_type": "display_data"
    }
   ],
   "source": [
    "fix, axs = plt.subplots(1,1)\n",
    "sns.distplot(distro1.exMeans)"
   ]
  },
  {
   "cell_type": "markdown",
   "metadata": {},
   "source": [
    "## Making the final section\n",
    "Here is some of the code required to render the data on a 4x4 area"
   ]
  },
  {
   "cell_type": "markdown",
   "metadata": {},
   "source": [
    "Here we use seaborn to draw the histogram as well as trendline. We assign them to each corresponding a"
   ]
  },
  {
   "cell_type": "markdown",
   "metadata": {},
   "source": []
  },
  {
   "cell_type": "markdown",
   "metadata": {},
   "source": []
  },
  {
   "cell_type": "code",
   "execution_count": 28,
   "metadata": {},
   "outputs": [
    {
     "name": "stderr",
     "output_type": "stream",
     "text": [
      "/home/ddeniro/anaconda3/lib/python3.7/site-packages/scipy/stats/stats.py:1713: FutureWarning: Using a non-tuple sequence for multidimensional indexing is deprecated; use `arr[tuple(seq)]` instead of `arr[seq]`. In the future this will be interpreted as an array index, `arr[np.array(seq)]`, which will result either in an error or a different result.\n",
      "  return np.add.reduce(sorted[indexer] * weights, axis=axis) / sumval\n",
      "/home/ddeniro/anaconda3/lib/python3.7/site-packages/seaborn/distributions.py:198: RuntimeWarning: Mean of empty slice.\n",
      "  line, = ax.plot(a.mean(), 0)\n",
      "/home/ddeniro/anaconda3/lib/python3.7/site-packages/numpy/core/_methods.py:85: RuntimeWarning: invalid value encountered in double_scalars\n",
      "  ret = ret.dtype.type(ret / rcount)\n",
      "/home/ddeniro/anaconda3/lib/python3.7/site-packages/numpy/lib/histograms.py:815: RuntimeWarning: invalid value encountered in true_divide\n",
      "  return n/db/n.sum(), bin_edges\n"
     ]
    },
    {
     "name": "stdout",
     "output_type": "stream",
     "text": [
      "Distro 1: takeStats(100, 500)\n",
      "\tExponential Mean: 0.9982268170206662\n",
      "\tWeibull Mean: 0.891669044306355\n",
      "\tUniform Mean: 0.49950124669404583\n",
      "Distro 2: takeStats(30, 500)\n",
      "\tExponential Mean: 0.9980730525052542\n",
      "\tWeibull Mean: 0.892074201230576\n",
      "\tUniform Mean: 0.5000233687680598\n",
      "Distro 3: takeStats(5, 500)\n",
      "\tExponential Mean: 1.007297644413266\n",
      "\tWeibull Mean: 0.8966453071012951\n",
      "\tUniform Mean: 0.502131566021633\n"
     ]
    },
    {
     "data": {
      "image/png": "[encoded data removed]",
      "text/plain": "<Figure size 432x288 with 16 Axes>"
     },
     "metadata": {
      "needs_background": "light"
     },
     "output_type": "display_data"
    }
   ],
   "source": [
    "\n",
    "fig, axs = plt.subplots(4,4)\n",
    "fig.suptitle(' 4 by 4 graphs')\n",
    "for ax in axs.flat:\n",
    "    ax.label_outer()\n",
    "    ax.set(xlim=(0,2))\n",
    "    \n",
    "\n",
    "#First row \"parent\" functions\n",
    "sns.distplot(exponNums, ax=axs[0,0])\n",
    "axs[0,0].set_title('Exponential')\n",
    "sns.distplot(weibulls, ax=axs[0,1])\n",
    "axs[0,1].set_title('Weibull')\n",
    "sns.distplot(uniforms, ax=axs[0,2])\n",
    "axs[0,2].set_title('Uniform')\n",
    "sns.distplot(normNums, ax=axs[0,3])\n",
    "axs[0,3].set_title('Normal')\n",
    "\n",
    "sns.distplot(distro1.exMeans, ax=axs[1,0])\n",
    "sns.distplot(distro2.exMeans, ax=axs[2,0])\n",
    "sns.distplot(distro3.exMeans, ax=axs[3,0])\n",
    "\n",
    "sns.distplot(distro1.weiMeans, ax=axs[1,1])\n",
    "sns.distplot(distro2.weiMeans, ax=axs[2,1])\n",
    "sns.distplot(distro3.weiMeans, ax=axs[3,1])\n",
    "\n",
    "sns.distplot(distro1.uniMeans, ax=axs[1,2])\n",
    "sns.distplot(distro2.uniMeans, ax=axs[2,2])\n",
    "sns.distplot(distro3.uniMeans, ax=axs[3,2])\n",
    "\n",
    "print(f'Distro 1: takeStats(100, 500)')\n",
    "print(f'\\tExponential Mean: {scipy.mean(distro1.exMeans)}')\n",
    "print(f'\\tWeibull Mean: {scipy.mean(distro1.weiMeans)}')\n",
    "print(f'\\tUniform Mean: {scipy.mean(distro1.uniMeans)}')\n",
    "print(f'Distro 2: takeStats(30, 500)')\n",
    "print(f'\\tExponential Mean: {scipy.mean(distro2.exMeans)}')\n",
    "print(f'\\tWeibull Mean: {scipy.mean(distro2.weiMeans)}')\n",
    "print(f'\\tUniform Mean: {scipy.mean(distro2.uniMeans)}')\n",
    "print(f'Distro 3: takeStats(5, 500)')\n",
    "print(f'\\tExponential Mean: {scipy.mean(distro3.exMeans)}')\n",
    "print(f'\\tWeibull Mean: {scipy.mean(distro3.weiMeans)}')\n",
    "print(f'\\tUniform Mean: {scipy.mean(distro3.uniMeans)}')\n"
   ]
  },
  {
   "cell_type": "markdown",
   "metadata": {},
   "source": []
  },
  {
   "cell_type": "markdown",
   "metadata": {},
   "source": [
    "## Conclusions/Observations\n",
    "\n",
    "As we increase in n, but keep p a constant it appears to approach a certain value. It appears that it can be quite accurate however even with just 5 samples.\n",
    "```txt\n",
    "Distro 1: takeStats(100, 500)\n",
    "\tExponential Mean: 0.9963254163773608\n",
    "\tWeibull Mean: 0.8908399049235275\n",
    "\tUniform Mean: 0.4991011737163576\n",
    "Distro 2: takeStats(30, 500)\n",
    "\tExponential Mean: 1.0120279281896885\n",
    "\tWeibull Mean: 0.8979927529819759\n",
    "\tUniform Mean: 0.5020358760873931\n",
    "Distro 3: takeStats(5, 500)\n",
    "\tExponential Mean: 0.9923008484043381\n",
    "\tWeibull Mean: 0.8911992209114222\n",
    "\tUniform Mean: 0.50008304265203\n",
    "```\n",
    "```\n",
    "Distro 1: takeStats(100, 50000)\n",
    "\tExponential Mean: 0.9982268170206662\n",
    "\tWeibull Mean: 0.891669044306355\n",
    "\tUniform Mean: 0.49950124669404583\n",
    "Distro 2: takeStats(30, 50000)\n",
    "\tExponential Mean: 0.9980730525052542\n",
    "\tWeibull Mean: 0.892074201230576\n",
    "\tUniform Mean: 0.5000233687680598\n",
    "Distro 3: takeStats(5, 50000)\n",
    "\tExponential Mean: 1.007297644413266\n",
    "\tWeibull Mean: 0.8966453071012951\n",
    "\tUniform Mean: 0.502131566021633\n",
    "```"
   ]
  }
 ],
 "metadata": {
  "kernelspec": {
   "display_name": "Python 3.7.0 64-bit ('base': conda)",
   "name": "python370jvsc74a57bd0d359179b57e7424fd479a20482650d07a67499062d3723209d54068921121e93"
  },
  "language_info": {
   "codemirror_mode": {
    "name": "ipython",
    "version": 3
   },
   "file_extension": ".py",
   "mimetype": "text/x-python",
   "name": "python",
   "nbconvert_exporter": "python",
   "pygments_lexer": "ipython3",
   "version": "3.7.0"
  },
  "orig_nbformat": 2
 },
 "nbformat": 4,
 "nbformat_minor": 2
}