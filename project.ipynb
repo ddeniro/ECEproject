{
 "cells": [
  {
   "cell_type": "markdown",
   "metadata": {},
   "source": [
    "# Displaying the Central Limit Theoream\n"
   ]
  },
  {
   "cell_type": "markdown",
   "metadata": {},
   "source": [
    "This project was programmed in Python, using *[Anaconda](https://www.anaconda.com/) toolkit for our necessary statistics, as well as plotting libraries. It is displayed using *[Jupyter](https://jupyter.org/)* Notebook, a great playground that made displaying this code more interactive.\n",
    "The code blocks can be ran independently and the code can be edited and reverted by the viewer. \n",
    "\n",
    "## Installing dependencies\n",
    "\n",
    "Interacting with the python in this notebook will require you use Jupyter yourself. The way I use this is through VSCode with these extensions: \n",
    "The extensions can be found through copying the ID next to their name and pressing CTRL+SHIFT+P and typing `install extensions` and selecting the first result. Paste the code `ms-toolsai.jupyter` for example, into the search bar in the left panel.\n",
    "\n",
    "Anaconda is essentially an all-in-one solution for most data sciene code in Python. Which I have installed which allows me access to all of this libraries. They can all be installed individually however if you want to avoid installing 300 MB or so for an environment. `pip install seaborn` for example, will install seaborn and its dependencies (which just so happen to include numpy, scip,y matplotlib)\n",
    "### VSCode extensions\n",
    "\n",
    "* Jupyter : ms-toolsai.jupyter\n",
    "* Python : ms-python.python\n",
    "\n",
    "I simply launch the project.ipynb and can click the individual green run arrows next to each code block below, or we can run it all at once sequentially. Markdown is supported in their own blocks, and you can add your own python code blocks as well.\n",
    "\n",
    "\n",
    "Note: Seaborn marks `distplot` as a deprecated, but their replacement `displot` was not included in my Anaconda installation.\n"
   ]
  },
  {
   "cell_type": "code",
   "execution_count": 1,
   "metadata": {},
   "outputs": [],
   "source": [
    "import matplotlib.pyplot as plt\n",
    "import scipy\n",
    "import scipy.stats as sp\n",
    "import numpy as np\n",
    "import seaborn as sns"
   ]
  },
  {
   "cell_type": "markdown",
   "metadata": {},
   "source": [
    "### Random Numbers\n",
    "* Requirement: Generate random uniform (0,1) numbers and use the inverse CDF functions to create random numbers for each of the distributions. Repeat this at least 50,000 times for each distribution.\n",
    "\n",
    "This function simply creates as many numbers as we want between 0 and 1. It is used elsewhere in the code, but you can uncomment some of the code and play with it to see how it functions. CTRL + Enter is a shortcut to run your code!"
   ]
  },
  {
   "cell_type": "code",
   "execution_count": 2,
   "metadata": {},
   "outputs": [],
   "source": [
    "# This outputs n amount of numbers between 0 and 1.\n",
    "def genNums(n):\n",
    "    return np.random.uniform(0,1,n)\n",
    "\n",
    "#print(genNums(20)) # Uncomment this code to see this function in action."
   ]
  },
  {
   "cell_type": "code",
   "execution_count": 3,
   "metadata": {},
   "outputs": [],
   "source": [
    "k = 500 # Where k is amount of numbers between 0 and 1. \n",
    "rannums = genNums(k)"
   ]
  },
  {
   "cell_type": "markdown",
   "metadata": {},
   "source": [
    "## Using random numbers to generate numbers in a distribution\n",
    " This example here uses the normal distribution. We first generate random numbers like above, and then use in the ppf function to create a dataset of random numbers in a normal distribution. We graph them on a histogram to show it fits the distribution."
   ]
  },
  {
   "cell_type": "markdown",
   "metadata": {},
   "source": [
    "In this example, the Normal Distribution is displayed. Because we ran the block above and generated *k* numbers in `rannums` that are all Uniform (between 0 and 1) we can use these numbers that fit the Normal Distribution (or really any distribution, as we will see throughout this notebook.)\n",
    "\n",
    "`sp.norm.ppf(num)` results in a number within the uniform distribution with parameter `num` as the seed. We take these and append this generated normal number and store it in `normNums` array.\n",
    "\n",
    "With all of these numbers we pass the `normNums` array into `sns.distplot()` which is a library with the function that dis\n"
   ]
  },
  {
   "cell_type": "code",
   "execution_count": 4,
   "metadata": {},
   "outputs": [
    {
     "name": "stderr",
     "output_type": "stream",
     "text": [
      "/home/ddeniro/anaconda3/lib/python3.7/site-packages/scipy/stats/stats.py:1713: FutureWarning: Using a non-tuple sequence for multidimensional indexing is deprecated; use `arr[tuple(seq)]` instead of `arr[seq]`. In the future this will be interpreted as an array index, `arr[np.array(seq)]`, which will result either in an error or a different result.\n",
      "  return np.add.reduce(sorted[indexer] * weights, axis=axis) / sumval\n"
     ]
    },
    {
     "data": {
      "text/plain": "<matplotlib.axes._subplots.AxesSubplot at 0x7f670ffb1048>"
     },
     "execution_count": 4,
     "metadata": {},
     "output_type": "execute_result"
    },
    {
     "data": {
      "image/png": "[encoded data removed]",
      "text/plain": "<Figure size 432x288 with 1 Axes>"
     },
     "metadata": {
      "needs_background": "light"
     },
     "output_type": "display_data"
    }
   ],
   "source": [
    "# Working on Normal Distribution\n",
    "normNums = []\n",
    "\n",
    "for num in rannums:\n",
    "    normNums.append(sp.norm.ppf(num)) \n",
    "sns.distplot(normNums)\n"
   ]
  },
  {
   "cell_type": "markdown",
   "metadata": {},
   "source": [
    "## Exponential Distribution\n",
    "\n",
    "This is simply how we graph the exponential distribution in a similar way."
   ]
  },
  {
   "cell_type": "code",
   "execution_count": 5,
   "metadata": {},
   "outputs": [
    {
     "name": "stderr",
     "output_type": "stream",
     "text": [
      "/home/ddeniro/anaconda3/lib/python3.7/site-packages/scipy/stats/stats.py:1713: FutureWarning: Using a non-tuple sequence for multidimensional indexing is deprecated; use `arr[tuple(seq)]` instead of `arr[seq]`. In the future this will be interpreted as an array index, `arr[np.array(seq)]`, which will result either in an error or a different result.\n",
      "  return np.add.reduce(sorted[indexer] * weights, axis=axis) / sumval\n"
     ]
    },
    {
     "data": {
      "text/plain": "<matplotlib.axes._subplots.AxesSubplot at 0x7f670fba84a8>"
     },
     "execution_count": 5,
     "metadata": {},
     "output_type": "execute_result"
    },
    {
     "data": {
      "image/png": "[encoded data removed]",
      "text/plain": "<Figure size 432x288 with 1 Axes>"
     },
     "metadata": {
      "needs_background": "light"
     },
     "output_type": "display_data"
    }
   ],
   "source": [
    "# Exponential\n",
    "exponNums = []\n",
    "for num in rannums:\n",
    "    exponNums.append(sp.expon.ppf(num))\n",
    "sns.distplot(exponNums)"
   ]
  },
  {
   "cell_type": "markdown",
   "metadata": {},
   "source": [
    "### The Weibull Distribution\n",
    "The Weibull distribution takes parameter c, and num in order to create a number that fits a weibull distribution.\n",
    "This is how we can generate and display those numbers."
   ]
  },
  {
   "cell_type": "code",
   "execution_count": 6,
   "metadata": {},
   "outputs": [
    {
     "name": "stderr",
     "output_type": "stream",
     "text": [
      "/home/ddeniro/anaconda3/lib/python3.7/site-packages/scipy/stats/stats.py:1713: FutureWarning: Using a non-tuple sequence for multidimensional indexing is deprecated; use `arr[tuple(seq)]` instead of `arr[seq]`. In the future this will be interpreted as an array index, `arr[np.array(seq)]`, which will result either in an error or a different result.\n",
      "  return np.add.reduce(sorted[indexer] * weights, axis=axis) / sumval\n"
     ]
    },
    {
     "data": {
      "text/plain": "<matplotlib.axes._subplots.AxesSubplot at 0x7f670fb5f2e8>"
     },
     "execution_count": 6,
     "metadata": {},
     "output_type": "execute_result"
    },
    {
     "data": {
      "image/png": "[encoded data removed]",
      "text/plain": "<Figure size 432x288 with 1 Axes>"
     },
     "metadata": {
      "needs_background": "light"
     },
     "output_type": "display_data"
    }
   ],
   "source": [
    "#Weibull\n",
    "c = 1.2\n",
    "c2 = 20\n",
    "weibulls = []\n",
    "weibulls2 = []\n",
    "for num in rannums:\n",
    "    weibulls.append(sp.weibull_min.ppf(num, c))\n",
    "    weibulls2.append(sp.weibull_min.ppf(num, c2))\n",
    "sns.distplot(weibulls)\n",
    "#sns.distplot(weibulls2, color=\"red\") #Uncomment me to see the variable \"c2\" at action and see how Weibull scales.\n",
    "\n"
   ]
  },
  {
   "cell_type": "markdown",
   "metadata": {},
   "source": [
    "### The Uniform Distribution\n",
    "\n",
    "We can display the uniform distribution similarly to the rest, when K is very large we can actually see this 'plateau' become steeper and steeper- practically trending to a 90 degree angle.\n",
    "Also interestingly since all of our numbers are generated randomly from uniform numbers- the exact graph is made when we just graph `rannums`. "
   ]
  },
  {
   "cell_type": "code",
   "execution_count": 33,
   "metadata": {},
   "outputs": [
    {
     "name": "stdout",
     "output_type": "stream",
     "text": [
      "[<matplotlib.axes._subplots.AxesSubplot object at 0x7f670d20d630>\n",
      " <matplotlib.axes._subplots.AxesSubplot object at 0x7f670d730080>]\n"
     ]
    },
    {
     "name": "stderr",
     "output_type": "stream",
     "text": [
      "/home/ddeniro/anaconda3/lib/python3.7/site-packages/scipy/stats/stats.py:1713: FutureWarning: Using a non-tuple sequence for multidimensional indexing is deprecated; use `arr[tuple(seq)]` instead of `arr[seq]`. In the future this will be interpreted as an array index, `arr[np.array(seq)]`, which will result either in an error or a different result.\n",
      "  return np.add.reduce(sorted[indexer] * weights, axis=axis) / sumval\n"
     ]
    },
    {
     "data": {
      "text/plain": "<matplotlib.axes._subplots.AxesSubplot at 0x7f670d730080>"
     },
     "execution_count": 33,
     "metadata": {},
     "output_type": "execute_result"
    },
    {
     "data": {
      "image/png": "[encoded data removed]",
      "text/plain": "<Figure size 432x288 with 2 Axes>"
     },
     "metadata": {
      "needs_background": "light"
     },
     "output_type": "display_data"
    }
   ],
   "source": [
    "# Uniforrm\n",
    "fix, axs = plt.subplots(2,1)\n",
    "uniforms = []\n",
    "for num in rannums:\n",
    "    uniforms.append(sp.uniform.ppf(num))\n",
    "print(axs)\n",
    "sns.distplot(uniforms, ax=axs[0])\n",
    "sns.distplot(rannums, ax=axs[1], color=\"tab:purple\")\n",
    "\n",
    "\n",
    "#sns.distplot(rannums) #Un comment me to draw the original data!"
   ]
  },
  {
   "cell_type": "markdown",
   "metadata": {},
   "source": [
    "## Generate all data sets from random variables\n",
    "Here we simply just create the arrays from the random numbers. The code blocks above are the individual versions, along with a way to print out the histogram after its changed to confirm its working.\n",
    "\n",
    "If we generate a bunch of random numbers between 0 and 1 and we are going to put them into various distributions, we might as well use the same set. This function `genDataSet()` takes in a mutable array and generates numbers for the three distributions. When it is necessary to update or add new distributions, this is where we can generate these new numbers on a large scale for use with the rest of the other distributions."
   ]
  },
  {
   "cell_type": "code",
   "execution_count": 8,
   "metadata": {},
   "outputs": [],
   "source": [
    "# Generate all data sets TRIANGLE currently unused/unimplemented\n",
    "# Where n is the amount of numbers between 0 and 1 generated.\n",
    "uniforms = []\n",
    "weibulls = [] #!! In order to keep information flowing\n",
    "exponNums = []\n",
    "c = 1.69 # Shape factor for the weibull\n",
    "def genDataSet(uniformNums, weibullNums, exponNums,n):\n",
    "    rannums = genNums(n)\n",
    "    for num in rannums:\n",
    "        uniformNums.append(sp.uniform.ppf(num))\n",
    "        weibullNums.append(sp.weibull_min.ppf(num, c))\n",
    "        exponNums.append(sp.expon.ppf(num))"
   ]
  },
  {
   "cell_type": "markdown",
   "metadata": {},
   "source": [
    "## Modify/Process the Data\n",
    "In this section we generate sample averages of size n = 5, 30 and 100\n",
    "\n",
    "This section is all about generating our data. There is primarily three takeaways in this block. `class Distro`, `takeStats(n,p)`, and `genDataSet()`\n",
    "\n",
    "The `Distro` class is simply an object that allows us to have multiple sets of distributions generated by the same uniform numbers. This is what allows us to compare the number of sample averages visually. This is represented by `n` in the `takeStats(n,p)` function.\n",
    "\n",
    "`takeStats(n,p)` will create a dataset of n numbers in each distribution, and will find the mean and add it to the array in Distro. It willd do this p times for p Means in each array.\n",
    "It returns a new Distro, so we assign three different distros with 3 different sample averages, 5, 30 and 100.\n",
    "\n"
   ]
  },
  {
   "cell_type": "code",
   "execution_count": 9,
   "metadata": {},
   "outputs": [],
   "source": [
    "# Distro Class is a way that we can store the entire datasets of our distributions while \n",
    "class Distro:\n",
    "    def __init__(self):\n",
    "        self.exMeans = []\n",
    "        self.uniMeans = []\n",
    "        self.weiMeans = []\n",
    "# takeStats will create a dataset of n numbers in each distribution, and will find the mean and add it to the array in Distro. \n",
    "# It willd do this p times for p Means in each array.\n",
    "def takeStats(n, p):\n",
    "    distroSet = Distro()\n",
    "    for i in range(p):\n",
    "        uniforms = []\n",
    "        weibulls = []\n",
    "        exponNums = []\n",
    "        genDataSet(uniforms, weibulls, exponNums, n)\n",
    "        distroSet.exMeans.append(scipy.mean(exponNums))\n",
    "        distroSet.uniMeans.append(scipy.mean(uniforms))\n",
    "        distroSet.weiMeans.append(scipy.mean(weibulls))\n",
    "    return distroSet\n",
    "\n",
    "\n",
    "\n"
   ]
  },
  {
   "cell_type": "markdown",
   "metadata": {},
   "source": [
    "### Creating distributions from seperate sets of uniform numbers.\n",
    "Now that `takeStats()` returns a distro, we can now have multiple distributions we we take 3 different sample averages for all the distributions each and store them with sample averages of 5, 30 and 100. This makes accessing them easy.\n",
    "\n",
    "We also make some parent numbers which we know will tightly fit the distribution functions we are talking about so we can see which distributions (or parent functions) we are talking about."
   ]
  },
  {
   "cell_type": "code",
   "execution_count": 13,
   "metadata": {},
   "outputs": [
    {
     "name": "stdout",
     "output_type": "stream",
     "text": [
      "0.9477087725513685\n"
     ]
    }
   ],
   "source": [
    "# Create the \"parent\" distro graphs for the first row.\n",
    "uniformsP = []\n",
    "weibullsP = []\n",
    "exponNumsP = []\n",
    "genDataSet(uniformsP, weibullsP, exponNumsP, 500)\n",
    "#Make a bunch of numbers\n",
    "## ## \n",
    "\n",
    "distro1 = takeStats(100, 500)\n",
    "distro2 = takeStats(30, 500)\n",
    "distro3 = takeStats(5, 500)\n",
    "print(distro1.exMeans[0])"
   ]
  },
  {
   "cell_type": "markdown",
   "metadata": {},
   "source": [
    "## Graphing the Distros\n",
    "Since distribution data is now stored under an \"object\" or class Distro, this block shows how we can access and graph a distro. For example here we access `distro1` which we made in the block above. This data graphs the means of exponential numbers generated by a random sets of uniform numbers. Which gives us our normal distribution shape."
   ]
  },
  {
   "cell_type": "code",
   "execution_count": 23,
   "metadata": {},
   "outputs": [
    {
     "name": "stderr",
     "output_type": "stream",
     "text": [
      "/home/ddeniro/anaconda3/lib/python3.7/site-packages/scipy/stats/stats.py:1713: FutureWarning: Using a non-tuple sequence for multidimensional indexing is deprecated; use `arr[tuple(seq)]` instead of `arr[seq]`. In the future this will be interpreted as an array index, `arr[np.array(seq)]`, which will result either in an error or a different result.\n",
      "  return np.add.reduce(sorted[indexer] * weights, axis=axis) / sumval\n"
     ]
    },
    {
     "data": {
      "text/plain": "<matplotlib.axes._subplots.AxesSubplot at 0x7f670f1414e0>"
     },
     "execution_count": 23,
     "metadata": {},
     "output_type": "execute_result"
    },
    {
     "data": {
      "image/png": "[encoded data removed]",
      "text/plain": "<Figure size 432x288 with 1 Axes>"
     },
     "metadata": {
      "needs_background": "light"
     },
     "output_type": "display_data"
    }
   ],
   "source": [
    "#fix, axs = plt.subplots(1,1) #This code is not required to actually get output in Jupyter, however when we want to graph mutliple graphs we will need stuff like this to arrange them as we will see later.\n",
    "sns.distplot(distro1.exMeans)"
   ]
  },
  {
   "cell_type": "markdown",
   "metadata": {},
   "source": [
    "## Making the final section\n",
    "Here is some of the code required to render the data on a 4x4 area"
   ]
  },
  {
   "cell_type": "markdown",
   "metadata": {},
   "source": [
    "Here we use seaborn to draw the histogram as well as trendline. We assign them to each corresponding a"
   ]
  },
  {
   "cell_type": "markdown",
   "metadata": {},
   "source": []
  },
  {
   "cell_type": "markdown",
   "metadata": {},
   "source": []
  },
  {
   "cell_type": "markdown",
   "metadata": {},
   "source": []
  },
  {
   "cell_type": "code",
   "execution_count": 32,
   "metadata": {},
   "outputs": [
    {
     "name": "stderr",
     "output_type": "stream",
     "text": [
      "/home/ddeniro/anaconda3/lib/python3.7/site-packages/scipy/stats/stats.py:1713: FutureWarning: Using a non-tuple sequence for multidimensional indexing is deprecated; use `arr[tuple(seq)]` instead of `arr[seq]`. In the future this will be interpreted as an array index, `arr[np.array(seq)]`, which will result either in an error or a different result.\n",
      "  return np.add.reduce(sorted[indexer] * weights, axis=axis) / sumval\n"
     ]
    },
    {
     "data": {
      "text/plain": "<matplotlib.axes._subplots.AxesSubplot at 0x7f670d2b8128>"
     },
     "execution_count": 32,
     "metadata": {},
     "output_type": "execute_result"
    },
    {
     "data": {
      "image/png": "[encoded data removed]",
      "text/plain": "<Figure size 432x288 with 16 Axes>"
     },
     "metadata": {
      "needs_background": "light"
     },
     "output_type": "display_data"
    }
   ],
   "source": [
    "\n",
    "fig, axs = plt.subplots(4,4) #Creates our 4x4 grid, we access it through axs[].\n",
    "fig.suptitle(' 4 by 4 graphs') #Set the main title.\n",
    "for ax in axs.flat:\n",
    "    ax.label_outer() # Removes number labels from the \n",
    "    ax.set(xlim=(0,2))\n",
    "    \n",
    "\n",
    "#First row \"parent\" functions and setting the column titles.\n",
    "sns.distplot(exponNumsP, ax=axs[0,0])\n",
    "axs[0,0].set_title('Exponential')\n",
    "\n",
    "sns.distplot(weibullsP, ax=axs[0,1])\n",
    "axs[0,1].set_title('Weibull')\n",
    "\n",
    "\n",
    "sns.distplot(uniformsP, ax=axs[0,2])\n",
    "axs[0,2].set_title('Uniform')\n",
    "\n",
    "axs[0,3].set_title('Inverse Pyramid') #[0,3] is the index column of the inverse Pyramid for axs.\n",
    "\n",
    "#Plot all of the means from the different exponential distributions\n",
    "sns.distplot(distro1.exMeans, ax=axs[1,0])\n",
    "sns.distplot(distro2.exMeans, ax=axs[2,0])\n",
    "sns.distplot(distro3.exMeans, ax=axs[3,0])\n",
    "                                #different weibull distributions\n",
    "sns.distplot(distro1.weiMeans, ax=axs[1,1])\n",
    "sns.distplot(distro2.weiMeans, ax=axs[2,1])\n",
    "sns.distplot(distro3.weiMeans, ax=axs[3,1])\n",
    "                                #different uniform distributions\n",
    "sns.distplot(distro1.uniMeans, ax=axs[1,2])\n",
    "sns.distplot(distro2.uniMeans, ax=axs[2,2])\n",
    "sns.distplot(distro3.uniMeans, ax=axs[3,2])\n"
   ]
  },
  {
   "cell_type": "markdown",
   "metadata": {},
   "source": [
    "This is some printing of the distributions overall(total?) means with their parameters"
   ]
  },
  {
   "cell_type": "code",
   "execution_count": 24,
   "metadata": {},
   "outputs": [
    {
     "name": "stdout",
     "output_type": "stream",
     "text": [
      "Distro 1: takeStats(100, 500)\n",
      "\tExponential Mean: 0.9975241436300373\n",
      "\tWeibull Mean: 0.8915538451861764\n",
      "\tUniform Mean: 0.49952403631399467\n",
      "Distro 2: takeStats(30, 500)\n",
      "\tExponential Mean: 1.0020158385792848\n",
      "\tWeibull Mean: 0.8936099939421475\n",
      "\tUniform Mean: 0.500173601155737\n",
      "Distro 3: takeStats(5, 500)\n",
      "\tExponential Mean: 1.0076423568041415\n",
      "\tWeibull Mean: 0.8980286762208237\n",
      "\tUniform Mean: 0.5039109757086293\n"
     ]
    }
   ],
   "source": [
    "print(f'Distro 1: takeStats(100, 500)')\n",
    "print(f'\\tExponential Mean: {scipy.mean(distro1.exMeans)}')\n",
    "print(f'\\tWeibull Mean: {scipy.mean(distro1.weiMeans)}')\n",
    "print(f'\\tUniform Mean: {scipy.mean(distro1.uniMeans)}')\n",
    "print(f'Distro 2: takeStats(30, 500)')\n",
    "print(f'\\tExponential Mean: {scipy.mean(distro2.exMeans)}')\n",
    "print(f'\\tWeibull Mean: {scipy.mean(distro2.weiMeans)}')\n",
    "print(f'\\tUniform Mean: {scipy.mean(distro2.uniMeans)}')\n",
    "print(f'Distro 3: takeStats(5, 500)')\n",
    "print(f'\\tExponential Mean: {scipy.mean(distro3.exMeans)}')\n",
    "print(f'\\tWeibull Mean: {scipy.mean(distro3.weiMeans)}')\n",
    "print(f'\\tUniform Mean: {scipy.mean(distro3.uniMeans)}')"
   ]
  },
  {
   "cell_type": "markdown",
   "metadata": {},
   "source": [
    "## Conclusions/Observations\n",
    "\n",
    "As we increase in n, but keep p a constant it appears to approach a certain value. It appears that it can be quite accurate however even with just 5 samples.\n",
    "\n",
    "I guess the code isn't super efficient because doing the samples 50k times takes ~4 minutes so I did that ahead of time and got the above data for that much data.\n",
    "```txt\n",
    "Distro 1: takeStats(100, 500)\n",
    "\tExponential Mean: 0.9963254163773608\n",
    "\tWeibull Mean: 0.8908399049235275\n",
    "\tUniform Mean: 0.4991011737163576\n",
    "Distro 2: takeStats(30, 500)\n",
    "\tExponential Mean: 1.0120279281896885\n",
    "\tWeibull Mean: 0.8979927529819759\n",
    "\tUniform Mean: 0.5020358760873931\n",
    "Distro 3: takeStats(5, 500)\n",
    "\tExponential Mean: 0.9923008484043381\n",
    "\tWeibull Mean: 0.8911992209114222\n",
    "\tUniform Mean: 0.50008304265203\n",
    "```\n",
    "```\n",
    "Distro 1: takeStats(100, 50000)\n",
    "\tExponential Mean: 0.9982268170206662\n",
    "\tWeibull Mean: 0.891669044306355\n",
    "\tUniform Mean: 0.49950124669404583\n",
    "Distro 2: takeStats(30, 50000)\n",
    "\tExponential Mean: 0.9980730525052542\n",
    "\tWeibull Mean: 0.892074201230576\n",
    "\tUniform Mean: 0.5000233687680598\n",
    "Distro 3: takeStats(5, 50000)\n",
    "\tExponential Mean: 1.007297644413266\n",
    "\tWeibull Mean: 0.8966453071012951\n",
    "\tUniform Mean: 0.502131566021633\n",
    "```"
   ]
  }
 ],
 "metadata": {
  "kernelspec": {
   "display_name": "Python 3.7.0 64-bit ('base': conda)",
   "metadata": {
    "interpreter": {
     "hash": "d359179b57e7424fd479a20482650d07a67499062d3723209d54068921121e93"
    }
   },
   "name": "python3"
  },
  "language_info": {
   "codemirror_mode": {
    "name": "ipython",
    "version": 3
   },
   "file_extension": ".py",
   "mimetype": "text/x-python",
   "name": "python",
   "nbconvert_exporter": "python",
   "pygments_lexer": "ipython3",
   "version": "3.7.0-final"
  },
  "orig_nbformat": 2
 },
 "nbformat": 4,
 "nbformat_minor": 2
}